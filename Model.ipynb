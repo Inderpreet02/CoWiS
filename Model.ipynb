{
 "cells": [
  {
   "cell_type": "code",
   "execution_count": 35,
   "metadata": {},
   "outputs": [],
   "source": [
    "import tensorflow as tf\n",
    "import numpy as np\n",
    "import pandas as pd"
   ]
  },
  {
   "cell_type": "code",
   "execution_count": 36,
   "metadata": {},
   "outputs": [],
   "source": [
    "users=['Vijay','Chris','Tony','Rakesh','Seema','Ishita']\n",
    "food=['Veg Burger','Pizza','White Sauce Pasta','Red Sauce Pasta','Choco Frappe','Mojito','Ice Coffee','Manchurian','Noodles','French fries','Ice Cream','Brownie']\n",
    "features=['Spicy','Sweet','Drinks','Americano','Italian','Pasta','Chinese']\n",
    "\n",
    "num_users=len(users)\n",
    "num_food=len(food)\n",
    "num_feat=len(features)\n",
    "num_recommendation=2"
   ]
  },
  {
   "cell_type": "code",
   "execution_count": 37,
   "metadata": {},
   "outputs": [],
   "source": [
    "user_review= tf.constant([\n",
    "    [5,0,3,2,4,0,4,3,0,4,0,1],\n",
    "    [1,2,0,2,5,4,5,0,3,2,5,0],\n",
    "    [5,0,1,2,3,5,2,0,5,4,3,2],\n",
    "    [3,4,1,2,4,2,0,0,3,4,5,0],\n",
    "    [0,3,4,0,2,3,0,5,4,2,3,0],\n",
    "    [5,0,3,4,5,3,4,0,3,4,0,5]\n",
    "] ,dtype=tf.float32)\n",
    "\n",
    "model_feat=tf.constant([\n",
    "    [1,0,0,1,0,0,0],\n",
    "    [1,0,0,1,1,0,0],\n",
    "    [1,0,0,0,1,1,1],\n",
    "    [1,0,0,0,1,1,1],\n",
    "    [0,1,1,1,0,0,0],\n",
    "    [1,0,1,1,0,0,0],\n",
    "    [0,1,1,1,0,0,0],\n",
    "    [1,0,0,0,1,0,1],\n",
    "    [1,0,0,0,1,0,1],\n",
    "    [1,0,0,1,1,0,0],\n",
    "    [0,1,0,1,0,0,0],\n",
    "    [0,1,0,1,0,0,0]\n",
    "],dtype=tf.float32)"
   ]
  },
  {
   "cell_type": "code",
   "execution_count": 38,
   "metadata": {},
   "outputs": [
    {
     "data": {
      "text/plain": [
       "<tf.Tensor: shape=(6, 7), dtype=float32, numpy=\n",
       "array([[17.,  9.,  8., 18., 12.,  5.,  8.],\n",
       "       [14., 15., 14., 24.,  9.,  2.,  5.],\n",
       "       [22., 10., 10., 24., 12.,  3.,  8.],\n",
       "       [19.,  9.,  6., 22., 14.,  3.,  6.],\n",
       "       [21.,  5.,  5., 13., 18.,  4., 13.],\n",
       "       [22., 14., 12., 26., 14.,  7., 10.]], dtype=float32)>"
      ]
     },
     "execution_count": 38,
     "metadata": {},
     "output_type": "execute_result"
    }
   ],
   "source": [
    "user_feat=tf.matmul(user_review,model_feat)\n",
    "user_feat"
   ]
  },
  {
   "cell_type": "code",
   "execution_count": 39,
   "metadata": {},
   "outputs": [
    {
     "data": {
      "text/plain": [
       "<tf.Tensor: shape=(6, 7), dtype=float32, numpy=\n",
       "array([[0.22077923, 0.11688311, 0.1038961 , 0.23376623, 0.15584415,\n",
       "        0.06493507, 0.1038961 ],\n",
       "       [0.16867469, 0.18072289, 0.16867469, 0.28915662, 0.10843374,\n",
       "        0.02409638, 0.06024097],\n",
       "       [0.24719101, 0.11235955, 0.11235955, 0.26966292, 0.13483146,\n",
       "        0.03370786, 0.08988764],\n",
       "       [0.24050634, 0.11392405, 0.07594936, 0.278481  , 0.17721519,\n",
       "        0.03797468, 0.07594936],\n",
       "       [0.2658228 , 0.06329114, 0.06329114, 0.16455697, 0.2278481 ,\n",
       "        0.05063291, 0.16455697],\n",
       "       [0.20952381, 0.13333334, 0.11428571, 0.24761905, 0.13333334,\n",
       "        0.06666667, 0.0952381 ]], dtype=float32)>"
      ]
     },
     "execution_count": 39,
     "metadata": {},
     "output_type": "execute_result"
    }
   ],
   "source": [
    "user_feat=user_feat/tf.reduce_sum(user_feat,axis=1,keepdims=True)\n",
    "user_feat"
   ]
  },
  {
   "cell_type": "code",
   "execution_count": 40,
   "metadata": {},
   "outputs": [
    {
     "data": {
      "text/plain": [
       "<tf.Tensor: shape=(6, 7), dtype=int32, numpy=\n",
       "array([[3, 0, 4, 1, 2, 6, 5],\n",
       "       [3, 1, 0, 2, 4, 6, 5],\n",
       "       [3, 0, 4, 1, 2, 6, 5],\n",
       "       [3, 0, 4, 1, 2, 6, 5],\n",
       "       [0, 4, 3, 6, 1, 2, 5],\n",
       "       [3, 0, 1, 4, 2, 6, 5]])>"
      ]
     },
     "execution_count": 40,
     "metadata": {},
     "output_type": "execute_result"
    }
   ],
   "source": [
    "top_user_features=tf.nn.top_k(user_feat,num_feat)[1]\n",
    "top_user_features"
   ]
  },
  {
   "cell_type": "code",
   "execution_count": 41,
   "metadata": {},
   "outputs": [
    {
     "name": "stdout",
     "output_type": "stream",
     "text": [
      "Vijay\n",
      "['Americano', 'Spicy', 'Italian', 'Sweet', 'Drinks', 'Chinese', 'Pasta']\n",
      "Chris\n",
      "['Americano', 'Sweet', 'Spicy', 'Drinks', 'Italian', 'Chinese', 'Pasta']\n",
      "Tony\n",
      "['Americano', 'Spicy', 'Italian', 'Sweet', 'Drinks', 'Chinese', 'Pasta']\n",
      "Rakesh\n",
      "['Americano', 'Spicy', 'Italian', 'Sweet', 'Drinks', 'Chinese', 'Pasta']\n",
      "Seema\n",
      "['Spicy', 'Italian', 'Americano', 'Chinese', 'Sweet', 'Drinks', 'Pasta']\n",
      "Ishita\n",
      "['Americano', 'Spicy', 'Sweet', 'Italian', 'Drinks', 'Chinese', 'Pasta']\n"
     ]
    }
   ],
   "source": [
    "for i in range(num_users):\n",
    "    feature_names=[features[int(index)] for index in top_user_features[i]]\n",
    "    print(users[i])\n",
    "    print(feature_names)"
   ]
  },
  {
   "cell_type": "code",
   "execution_count": 42,
   "metadata": {},
   "outputs": [
    {
     "data": {
      "text/plain": [
       "<tf.Tensor: shape=(6, 12), dtype=float32, numpy=\n",
       "array([[0.45454544, 0.6103896 , 0.54545456, 0.54545456, 0.45454544,\n",
       "        0.5584415 , 0.45454544, 0.4805195 , 0.4805195 , 0.6103896 ,\n",
       "        0.35064936, 0.35064936],\n",
       "       [0.45783132, 0.56626505, 0.36144575, 0.36144575, 0.6385542 ,\n",
       "        0.626506  , 0.6385542 , 0.33734939, 0.33734939, 0.56626505,\n",
       "        0.4698795 , 0.4698795 ],\n",
       "       [0.5168539 , 0.65168536, 0.505618  , 0.505618  , 0.49438202,\n",
       "        0.62921345, 0.49438202, 0.47191012, 0.47191012, 0.65168536,\n",
       "        0.38202247, 0.38202247],\n",
       "       [0.51898736, 0.6962025 , 0.53164554, 0.53164554, 0.4683544 ,\n",
       "        0.5949367 , 0.4683544 , 0.49367088, 0.49367088, 0.6962025 ,\n",
       "        0.39240506, 0.39240506],\n",
       "       [0.43037975, 0.65822786, 0.70886075, 0.70886075, 0.29113925,\n",
       "        0.49367088, 0.29113925, 0.65822786, 0.65822786, 0.65822786,\n",
       "        0.22784811, 0.22784811],\n",
       "       [0.45714286, 0.5904762 , 0.50476193, 0.50476193, 0.49523813,\n",
       "        0.5714286 , 0.49523813, 0.43809524, 0.43809524, 0.5904762 ,\n",
       "        0.3809524 , 0.3809524 ]], dtype=float32)>"
      ]
     },
     "execution_count": 42,
     "metadata": {},
     "output_type": "execute_result"
    }
   ],
   "source": [
    "user_ratings=tf.matmul(user_feat,tf.transpose(model_feat))\n",
    "user_ratings"
   ]
  },
  {
   "cell_type": "code",
   "execution_count": 43,
   "metadata": {},
   "outputs": [
    {
     "data": {
      "text/plain": [
       "<tf.Tensor: shape=(6, 12), dtype=float32, numpy=\n",
       "array([[0.        , 0.6103896 , 0.        , 0.        , 0.        ,\n",
       "        0.5584415 , 0.        , 0.        , 0.4805195 , 0.        ,\n",
       "        0.35064936, 0.        ],\n",
       "       [0.        , 0.        , 0.36144575, 0.        , 0.        ,\n",
       "        0.        , 0.        , 0.33734939, 0.        , 0.        ,\n",
       "        0.        , 0.4698795 ],\n",
       "       [0.        , 0.65168536, 0.        , 0.        , 0.        ,\n",
       "        0.        , 0.        , 0.47191012, 0.        , 0.        ,\n",
       "        0.        , 0.        ],\n",
       "       [0.        , 0.        , 0.        , 0.        , 0.        ,\n",
       "        0.        , 0.4683544 , 0.49367088, 0.        , 0.        ,\n",
       "        0.        , 0.39240506],\n",
       "       [0.43037975, 0.        , 0.        , 0.70886075, 0.        ,\n",
       "        0.        , 0.29113925, 0.        , 0.        , 0.        ,\n",
       "        0.        , 0.22784811],\n",
       "       [0.        , 0.5904762 , 0.        , 0.        , 0.        ,\n",
       "        0.        , 0.        , 0.43809524, 0.        , 0.        ,\n",
       "        0.3809524 , 0.        ]], dtype=float32)>"
      ]
     },
     "execution_count": 43,
     "metadata": {},
     "output_type": "execute_result"
    }
   ],
   "source": [
    "user_rating_new=tf.where(tf.equal(user_review, tf.zeros_like(user_review)),\n",
    "                        user_ratings,\n",
    "                        tf.zeros_like(tf.cast(user_review,tf.float32)))\n",
    "user_rating_new"
   ]
  },
  {
   "cell_type": "code",
   "execution_count": 44,
   "metadata": {},
   "outputs": [
    {
     "data": {
      "text/plain": [
       "<tf.Tensor: shape=(6, 2), dtype=int32, numpy=\n",
       "array([[ 1,  5],\n",
       "       [11,  2],\n",
       "       [ 1,  7],\n",
       "       [ 7,  6],\n",
       "       [ 3,  0],\n",
       "       [ 1,  7]])>"
      ]
     },
     "execution_count": 44,
     "metadata": {},
     "output_type": "execute_result"
    }
   ],
   "source": [
    "top_food=tf.nn.top_k(user_rating_new,num_recommendation)[1]\n",
    "top_food"
   ]
  },
  {
   "cell_type": "code",
   "execution_count": 45,
   "metadata": {},
   "outputs": [
    {
     "name": "stdout",
     "output_type": "stream",
     "text": [
      "Vijay\n",
      "['Pizza', 'Mojito']\n",
      "Chris\n",
      "['Brownie', 'White Sauce Pasta']\n",
      "Tony\n",
      "['Pizza', 'Manchurian']\n",
      "Rakesh\n",
      "['Manchurian', 'Ice Coffee']\n",
      "Seema\n",
      "['Red Sauce Pasta', 'Veg Burger']\n",
      "Ishita\n",
      "['Pizza', 'Manchurian']\n"
     ]
    }
   ],
   "source": [
    "for i in range(num_users):\n",
    "    food_names=[food[int(index)] for index in top_food[i]]\n",
    "    print(users[i])\n",
    "    print(food_names)"
   ]
  },
  {
   "cell_type": "code",
   "execution_count": null,
   "metadata": {},
   "outputs": [],
   "source": []
  },
  {
   "cell_type": "code",
   "execution_count": null,
   "metadata": {},
   "outputs": [],
   "source": []
  }
 ],
 "metadata": {
  "kernelspec": {
   "display_name": "Python 3",
   "language": "python",
   "name": "python3"
  },
  "language_info": {
   "codemirror_mode": {
    "name": "ipython",
    "version": 3
   },
   "file_extension": ".py",
   "mimetype": "text/x-python",
   "name": "python",
   "nbconvert_exporter": "python",
   "pygments_lexer": "ipython3",
   "version": "3.8.3"
  }
 },
 "nbformat": 4,
 "nbformat_minor": 4
}
